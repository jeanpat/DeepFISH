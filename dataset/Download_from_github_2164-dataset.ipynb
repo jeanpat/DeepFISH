{
 "cells": [
  {
   "cell_type": "markdown",
   "metadata": {},
   "source": [
    "# 2164 Full resolution pairs of grayscaled+groundtruth label images\n",
    "The pairs of images were generated from a [previous dataset](https://github.com/jeanpat/DeepFISH/blob/master/dataset/overlapping_chromosomes_examples.h5?raw=true) which suffered from several defects both in the grayscale and in the ground truth components:\n",
    "\n",
    "   * The grayscaled images could suffer from two problems:\n",
    "       * Some images had black dots: those images were removed (with the corresponding groundtruth)\n",
    "       * The images dtype is now *np.uint8*\n",
    "       * The overlapping domain is now more realistic compared with real overlapping chromosomes\n",
    "   * The labels of the groundtruth don't have no more spurious pixels\n",
    "\n"
   ]
  },
  {
   "cell_type": "code",
   "execution_count": 2,
   "metadata": {},
   "outputs": [],
   "source": [
    "import numpy as np\n",
    "from scipy import ndimage as nd\n",
    "from matplotlib import pyplot as plt"
   ]
  },
  {
   "cell_type": "code",
   "execution_count": 1,
   "metadata": {},
   "outputs": [
    {
     "name": "stdout",
     "output_type": "stream",
     "text": [
      "--2020-01-30 16:48:29--  https://github.com/jeanpat/DeepFISH/blob/master/dataset/Cleaned_FullRes_2164_overlapping_pairs.npz?raw=true\n",
      "Résolution de github.com (github.com)… 140.82.118.4\n",
      "Connexion à github.com (github.com)|140.82.118.4|:443… connecté.\n",
      "requête HTTP transmise, en attente de la réponse… 302 Found\n",
      "Emplacement : https://github.com/jeanpat/DeepFISH/raw/master/dataset/Cleaned_FullRes_2164_overlapping_pairs.npz [suivant]\n",
      "--2020-01-30 16:48:29--  https://github.com/jeanpat/DeepFISH/raw/master/dataset/Cleaned_FullRes_2164_overlapping_pairs.npz\n",
      "Réutilisation de la connexion existante à github.com:443.\n",
      "requête HTTP transmise, en attente de la réponse… 302 Found\n",
      "Emplacement : https://raw.githubusercontent.com/jeanpat/DeepFISH/master/dataset/Cleaned_FullRes_2164_overlapping_pairs.npz [suivant]\n",
      "--2020-01-30 16:48:30--  https://raw.githubusercontent.com/jeanpat/DeepFISH/master/dataset/Cleaned_FullRes_2164_overlapping_pairs.npz\n",
      "Résolution de raw.githubusercontent.com (raw.githubusercontent.com)… 151.101.120.133\n",
      "Connexion à raw.githubusercontent.com (raw.githubusercontent.com)|151.101.120.133|:443… connecté.\n",
      "requête HTTP transmise, en attente de la réponse… 200 OK\n",
      "Taille : 9166198 (8,7M) [application/octet-stream]\n",
      "Enregistre : «Cleaned_FullRes_2164_overlapping_pairs.npz?raw=true»\n",
      "\n",
      "Cleaned_FullRes_216 100%[===================>]   8,74M  1,22MB/s    ds 6,9s    \n",
      "\n",
      "2020-01-30 16:48:38 (1,26 MB/s) - «Cleaned_FullRes_2164_overlapping_pairs.npz?raw=true» enregistré [9166198/9166198]\n",
      "\n"
     ]
    }
   ],
   "source": [
    "!wget https://github.com/jeanpat/DeepFISH/blob/master/dataset/Cleaned_FullRes_2164_overlapping_pairs.npz?raw=true\n",
    "!mv Cleaned_FullRes_2164_overlapping_pairs.npz?raw=true Clean2164.npz"
   ]
  },
  {
   "cell_type": "code",
   "execution_count": 27,
   "metadata": {},
   "outputs": [
    {
     "data": {
      "text/plain": [
       "(2164, 190, 189, 2)"
      ]
     },
     "execution_count": 27,
     "metadata": {},
     "output_type": "execute_result"
    }
   ],
   "source": [
    "# There's a trick to load and uncompress a numpy .npz array\n",
    "# https://stackoverflow.com/questions/18231135/load-compressed-data-npz-from-file-using-numpy-load/44693995\n",
    "#\n",
    "dataset = np.load('Clean2164.npz')\n",
    "data = dataset.f.arr_0\n",
    "data.shape"
   ]
  },
  {
   "cell_type": "markdown",
   "metadata": {},
   "source": [
    "#### Have a look to the downloaded images"
   ]
  },
  {
   "cell_type": "code",
   "execution_count": 25,
   "metadata": {},
   "outputs": [
    {
     "data": {
      "text/plain": [
       "<matplotlib.image.AxesImage at 0x7fd7164d2e10>"
      ]
     },
     "execution_count": 25,
     "metadata": {},
     "output_type": "execute_result"
    },
    {
     "data": {
      "image/png": "[encoded data removed]",
      "text/plain": [
       "<Figure size 720x576 with 2 Axes>"
      ]
     },
     "metadata": {
      "needs_background": "light"
     },
     "output_type": "display_data"
    }
   ],
   "source": [
    "N=203\n",
    "plt.figure(figsize=(10,8))\n",
    "plt.subplot(121)\n",
    "plt.imshow(data[N,:,:,0], cmap=plt.cm.gray)\n",
    "plt.subplot(122)\n",
    "plt.imshow(data[N,:,:,1], cmap=plt.cm.flag_r)"
   ]
  },
  {
   "cell_type": "markdown",
   "metadata": {},
   "source": [
    "### The same dataset saved as a hdf5 file can be downloaded"
   ]
  },
  {
   "cell_type": "code",
   "execution_count": 29,
   "metadata": {},
   "outputs": [
    {
     "name": "stdout",
     "output_type": "stream",
     "text": [
      "--2020-01-30 22:49:04--  https://github.com/jeanpat/DeepFISH/blob/master/dataset/Cleaned_FullRes_2164_overlapping_pairs.h5?raw=true\n",
      "Résolution de github.com (github.com)… 140.82.118.4\n",
      "Connexion à github.com (github.com)|140.82.118.4|:443… connecté.\n",
      "requête HTTP transmise, en attente de la réponse… 302 Found\n",
      "Emplacement : https://github.com/jeanpat/DeepFISH/raw/master/dataset/Cleaned_FullRes_2164_overlapping_pairs.h5 [suivant]\n",
      "--2020-01-30 22:49:05--  https://github.com/jeanpat/DeepFISH/raw/master/dataset/Cleaned_FullRes_2164_overlapping_pairs.h5\n",
      "Réutilisation de la connexion existante à github.com:443.\n",
      "requête HTTP transmise, en attente de la réponse… 302 Found\n",
      "Emplacement : https://raw.githubusercontent.com/jeanpat/DeepFISH/master/dataset/Cleaned_FullRes_2164_overlapping_pairs.h5 [suivant]\n",
      "--2020-01-30 22:49:05--  https://raw.githubusercontent.com/jeanpat/DeepFISH/master/dataset/Cleaned_FullRes_2164_overlapping_pairs.h5\n",
      "Résolution de raw.githubusercontent.com (raw.githubusercontent.com)… 151.101.120.133\n",
      "Connexion à raw.githubusercontent.com (raw.githubusercontent.com)|151.101.120.133|:443… connecté.\n",
      "requête HTTP transmise, en attente de la réponse… 200 OK\n",
      "Taille : 4487537 (4,3M) [application/octet-stream]\n",
      "Enregistre : «Cleaned_FullRes_2164_overlapping_pairs.h5?raw=true.1»\n",
      "\n",
      "Cleaned_FullRes_216 100%[===================>]   4,28M  1,55MB/s    ds 2,8s    \n",
      "\n",
      "2020-01-30 22:49:08 (1,55 MB/s) - «Cleaned_FullRes_2164_overlapping_pairs.h5?raw=true.1» enregistré [4487537/4487537]\n",
      "\n"
     ]
    }
   ],
   "source": [
    "!wget https://github.com/jeanpat/DeepFISH/blob/master/dataset/Cleaned_FullRes_2164_overlapping_pairs.h5?raw=true\n",
    "!mv Cleaned_FullRes_2164_overlapping_pairs.h5?raw=true Clean2164.h5"
   ]
  },
  {
   "cell_type": "code",
   "execution_count": 32,
   "metadata": {},
   "outputs": [
    {
     "name": "stdout",
     "output_type": "stream",
     "text": [
      "dataset is a numpy array of shape: (2164, 190, 189, 2)\n"
     ]
    }
   ],
   "source": [
    "import h5py\n",
    "filename = './Clean2164.h5'\n",
    "h5f = h5py.File(filename,'r')\n",
    "pairs = h5f['chroms_data'][:]\n",
    "h5f.close()\n",
    "print('dataset is a numpy array of shape:', pairs.shape)"
   ]
  },
  {
   "cell_type": "code",
   "execution_count": null,
   "metadata": {},
   "outputs": [],
   "source": []
  }
 ],
 "metadata": {
  "kernelspec": {
   "display_name": "Python 3",
   "language": "python",
   "name": "python3"
  },
  "language_info": {
   "codemirror_mode": {
    "name": "ipython",
    "version": 3
   },
   "file_extension": ".py",
   "mimetype": "text/x-python",
   "name": "python",
   "nbconvert_exporter": "python",
   "pygments_lexer": "ipython3",
   "version": "3.7.3"
  }
 },
 "nbformat": 4,
 "nbformat_minor": 2
}
