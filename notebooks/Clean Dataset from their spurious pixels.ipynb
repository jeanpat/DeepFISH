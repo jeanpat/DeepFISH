{
 "cells": [
  {
   "cell_type": "markdown",
   "metadata": {},
   "source": [
    "# Cleaning the groundtruth images from their spurious pixels"
   ]
  },
  {
   "cell_type": "code",
   "execution_count": 8,
   "metadata": {},
   "outputs": [],
   "source": [
    "import os\n",
    "import h5py\n",
    "from matplotlib import pyplot as plt"
   ]
  },
  {
   "cell_type": "code",
   "execution_count": 179,
   "metadata": {},
   "outputs": [],
   "source": [
    "import numpy as np\n",
    "from numpy import newaxis\n",
    "from skimage import morphology as mo\n",
    "from scipy.ndimage import distance_transform_bf as distance"
   ]
  },
  {
   "cell_type": "code",
   "execution_count": 132,
   "metadata": {},
   "outputs": [],
   "source": [
    "def distanceTransform(bIm):\n",
    "    #from pythonvision.org\n",
    "    dist = distance(bIm)\n",
    "    dist = dist.max() - dist\n",
    "    dist -= dist.min()\n",
    "    dist = dist/float(dist.ptp()) * 255\n",
    "    dist = dist.astype(np.uint8)\n",
    "    return dist\n",
    "\n",
    "def clean_ground_truth(gd_lab, size = 2):\n",
    "    \"\"\"Remove spurious pixels from badly labelled groundtruth image\n",
    "    returns three binary images (One hot shot) first and a labelled image.\n",
    "    \"\"\"\n",
    "    mask = gd_lab > 0\n",
    "    dmap = distanceTransform(mask)\n",
    "        \n",
    "    cleaned_lab1 = mo.binary_opening(gd_lab == 1, selem = mo.disk(size))\n",
    "    cleaned_lab2 = mo.binary_opening(gd_lab == 2, selem = mo.disk(size))\n",
    "    cleaned_lab3 = mo.binary_opening(gd_lab == 3, selem = mo.disk(size))\n",
    "    \n",
    "    seeds = cleaned_lab1+2*cleaned_lab2+3*cleaned_lab3\n",
    "    seg = mo.watershed(dmap, markers = seeds, mask = 1*mask)\n",
    "    chrom_lab1 = seg == 1\n",
    "    chrom_lab2 = seg == 2\n",
    "    overlapp = seg == 3\n",
    "    \n",
    "    return chrom_lab1, chrom_lab2, overlapp, seg\n",
    "\n"
   ]
  },
  {
   "cell_type": "markdown",
   "metadata": {},
   "source": [
    "### Download the dataset  from its repository at github\n",
    "https://github.com/jeanpat/DeepFISH/tree/master/dataset"
   ]
  },
  {
   "cell_type": "code",
   "execution_count": 20,
   "metadata": {},
   "outputs": [
    {
     "name": "stdout",
     "output_type": "stream",
     "text": [
      "--2019-12-20 09:04:27--  https://github.com/jeanpat/DeepFISH/blob/master/dataset/LowRes_13434_overlapping_pairs.h5\n",
      "Résolution de github.com (github.com)… 140.82.118.4\n",
      "Connexion à github.com (github.com)|140.82.118.4|:443… connecté.\n",
      "requête HTTP transmise, en attente de la réponse… 200 OK\n",
      "Taille : non indiqué [text/html]\n",
      "Enregistre : «LowRes_13434_overlapping_pairs.h5»\n",
      "\n",
      "LowRes_13434_overla     [ <=>                ]  62,54K  --.-KB/s    ds 0,1s    \n",
      "\n",
      "2019-12-20 09:04:28 (630 KB/s) - «LowRes_13434_overlapping_pairs.h5» enregistré [64037]\n",
      "\n"
     ]
    }
   ],
   "source": [
    "!wget https://github.com/jeanpat/DeepFISH/blob/master/dataset/LowRes_13434_overlapping_pairs.h5  "
   ]
  },
  {
   "cell_type": "code",
   "execution_count": 44,
   "metadata": {},
   "outputs": [
    {
     "name": "stdout",
     "output_type": "stream",
     "text": [
      "dataset is a numpy array of shape: (13434, 94, 93, 2)\n"
     ]
    }
   ],
   "source": [
    "filename = './LowRes_13434_overlapping_pairs.h5'\n",
    "h5f = h5py.File(filename,'r')\n",
    "pairs = h5f['dataset_1'][:]\n",
    "h5f.close()\n",
    "print('dataset is a numpy array of shape:', pairs.shape)"
   ]
  },
  {
   "cell_type": "code",
   "execution_count": 146,
   "metadata": {},
   "outputs": [],
   "source": [
    "N = 11508\n",
    "grey = pairs[N,:,:,0]\n",
    "g_truth = pairs[N,:,:,1]\n",
    "l1, l2, l3, seg = clean_ground_truth(g_truth, size = 1)"
   ]
  },
  {
   "cell_type": "code",
   "execution_count": 175,
   "metadata": {},
   "outputs": [
    {
     "name": "stdout",
     "output_type": "stream",
     "text": [
      "(94, 93, 2)\n",
      "(2, 94, 93, 2)\n"
     ]
    }
   ],
   "source": [
    "test = np.dstack((grey, g_truth))\n",
    "print(test.shape)\n",
    "t2 = np.stack((test,test))\n",
    "print(t2.shape)"
   ]
  },
  {
   "cell_type": "markdown",
   "metadata": {},
   "source": [
    "### Let's compare the groundtruth image befor and after cleaning"
   ]
  },
  {
   "cell_type": "code",
   "execution_count": 165,
   "metadata": {},
   "outputs": [
    {
     "data": {
      "text/plain": [
       "<matplotlib.image.AxesImage at 0x7fe0814c80f0>"
      ]
     },
     "execution_count": 165,
     "metadata": {},
     "output_type": "execute_result"
    },
    {
     "data": {
      "image/png": "[encoded data removed]",
      "text/plain": [
       "<Figure size 1440x720 with 9 Axes>"
      ]
     },
     "metadata": {},
     "output_type": "display_data"
    }
   ],
   "source": [
    "plt.figure(figsize=(20,10))\n",
    "\n",
    "plt.subplot(251,xticks=[],yticks=[])\n",
    "plt.imshow(grey, cmap=plt.cm.gray)\n",
    "plt.subplot(252,xticks=[],yticks=[])\n",
    "plt.imshow(g_truth, cmap=plt.cm.flag_r)\n",
    "plt.subplot(253,xticks=[],yticks=[])\n",
    "plt.imshow(g_truth == 1, cmap=plt.cm.flag_r)\n",
    "plt.subplot(254,xticks=[],yticks=[])\n",
    "plt.imshow(g_truth == 2, cmap=plt.cm.flag_r)\n",
    "plt.subplot(255,xticks=[],yticks=[])\n",
    "plt.imshow(g_truth == 3, cmap=plt.cm.flag_r)\n",
    "\n",
    "#plt.subplot(256,xticks=[],yticks=[])\n",
    "#plt.imshow(mo.white_tophat(grey, selem = mo.disk(2)) > 0, cmap=plt.cm.jet)\n",
    "plt.subplot(257,xticks=[],yticks=[])\n",
    "plt.imshow(l1+2*l2+3*l3, cmap=plt.cm.flag_r)\n",
    "plt.subplot(258,xticks=[],yticks=[])\n",
    "plt.imshow(l1, cmap=plt.cm.flag_r)\n",
    "plt.subplot(259,xticks=[],yticks=[])\n",
    "plt.imshow(l2, cmap=plt.cm.flag_r)\n",
    "plt.subplot(2,5,10,xticks=[],yticks=[])\n",
    "plt.imshow(l3, cmap=plt.cm.flag_r)"
   ]
  },
  {
   "cell_type": "markdown",
   "metadata": {},
   "source": [
    "# Clean the whole dataset"
   ]
  },
  {
   "cell_type": "code",
   "execution_count": 196,
   "metadata": {},
   "outputs": [],
   "source": [
    "new_data = np.zeros((1,94,93,2), dtype = int)\n",
    "N = pairs.shape[0]#10\n",
    "for idx in range(N):\n",
    "    g_truth = pairs[idx,:,:,1]\n",
    "    grey = pairs[idx,:,:,0]\n",
    "    _, _, _, seg = clean_ground_truth(g_truth, size = 1)\n",
    "    paired = np.dstack((grey, seg))\n",
    "    #\n",
    "    #https://stackoverflow.com/questions/7372316/how-to-make-a-2d-numpy-array-a-3d-array/7372678\n",
    "    #\n",
    "    new_data = np.concatenate((new_data, paired[newaxis,:, :, :]))\n",
    "new_data = new_data[1:,:,:,:]"
   ]
  },
  {
   "cell_type": "code",
   "execution_count": 1,
   "metadata": {},
   "outputs": [
    {
     "ename": "NameError",
     "evalue": "name 'plt' is not defined",
     "output_type": "error",
     "traceback": [
      "\u001b[0;31m---------------------------------------------------------------------------\u001b[0m",
      "\u001b[0;31mNameError\u001b[0m                                 Traceback (most recent call last)",
      "\u001b[0;32m<ipython-input-1-9caa5f72b343>\u001b[0m in \u001b[0;36m<module>\u001b[0;34m\u001b[0m\n\u001b[0;32m----> 1\u001b[0;31m \u001b[0mplt\u001b[0m\u001b[0;34m.\u001b[0m\u001b[0mfigure\u001b[0m\u001b[0;34m(\u001b[0m\u001b[0mfigsize\u001b[0m\u001b[0;34m=\u001b[0m\u001b[0;34m(\u001b[0m\u001b[0;36m20\u001b[0m\u001b[0;34m,\u001b[0m\u001b[0;36m10\u001b[0m\u001b[0;34m)\u001b[0m\u001b[0;34m)\u001b[0m\u001b[0;34m\u001b[0m\u001b[0;34m\u001b[0m\u001b[0m\n\u001b[0m\u001b[1;32m      2\u001b[0m \u001b[0mN\u001b[0m\u001b[0;34m=\u001b[0m\u001b[0;36m10580\u001b[0m\u001b[0;34m\u001b[0m\u001b[0;34m\u001b[0m\u001b[0m\n\u001b[1;32m      3\u001b[0m \u001b[0mgrey\u001b[0m \u001b[0;34m=\u001b[0m \u001b[0mnew_data\u001b[0m\u001b[0;34m[\u001b[0m\u001b[0mN\u001b[0m\u001b[0;34m,\u001b[0m\u001b[0;34m:\u001b[0m\u001b[0;34m,\u001b[0m\u001b[0;34m:\u001b[0m\u001b[0;34m,\u001b[0m\u001b[0;36m0\u001b[0m\u001b[0;34m]\u001b[0m\u001b[0;34m\u001b[0m\u001b[0;34m\u001b[0m\u001b[0m\n\u001b[1;32m      4\u001b[0m \u001b[0mg_truth\u001b[0m \u001b[0;34m=\u001b[0m \u001b[0mnew_data\u001b[0m\u001b[0;34m[\u001b[0m\u001b[0mN\u001b[0m\u001b[0;34m,\u001b[0m\u001b[0;34m:\u001b[0m\u001b[0;34m,\u001b[0m\u001b[0;34m:\u001b[0m\u001b[0;34m,\u001b[0m\u001b[0;36m1\u001b[0m\u001b[0;34m]\u001b[0m\u001b[0;34m\u001b[0m\u001b[0;34m\u001b[0m\u001b[0m\n\u001b[1;32m      5\u001b[0m \u001b[0;34m\u001b[0m\u001b[0m\n",
      "\u001b[0;31mNameError\u001b[0m: name 'plt' is not defined"
     ]
    }
   ],
   "source": [
    "plt.figure(figsize=(20,10))\n",
    "N=10580\n",
    "grey = new_data[N,:,:,0]\n",
    "g_truth = new_data[N,:,:,1]\n",
    "\n",
    "plt.subplot(121,xticks=[],yticks=[])\n",
    "plt.imshow(grey, cmap=plt.cm.gray)\n",
    "plt.subplot(122,xticks=[],yticks=[])\n",
    "plt.imshow(g_truth, cmap=plt.cm.flag_r)\n"
   ]
  },
  {
   "cell_type": "markdown",
   "metadata": {},
   "source": [
    "### Save the dataset using hdf5 format"
   ]
  },
  {
   "cell_type": "code",
   "execution_count": 200,
   "metadata": {},
   "outputs": [],
   "source": [
    "filename = './Cleaned_LowRes_13434_overlapping_pairs.h5'\n",
    "hf = h5py.File(filename,'w')\n",
    "hf.create_dataset('13434_overlapping_chrom_pairs_LowRes', data=new_data, compression='gzip', compression_opts=9)\n",
    "hf.close()"
   ]
  }
 ],
 "metadata": {
  "kernelspec": {
   "display_name": "Python 3",
   "language": "python",
   "name": "python3"
  },
  "language_info": {
   "codemirror_mode": {
    "name": "ipython",
    "version": 3
   },
   "file_extension": ".py",
   "mimetype": "text/x-python",
   "name": "python",
   "nbconvert_exporter": "python",
   "pygments_lexer": "ipython3",
   "version": "3.7.3"
  }
 },
 "nbformat": 4,
 "nbformat_minor": 2
}
